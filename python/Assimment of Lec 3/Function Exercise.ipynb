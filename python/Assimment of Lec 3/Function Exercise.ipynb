{
 "cells": [
  {
   "cell_type": "markdown",
   "id": "9918020f",
   "metadata": {},
   "source": [
    "## LESSER OF TWO EVENS: Write a function that returns the lesser of two given numbers *if* both numbers are even, but returns the greater if one or both numbers are odd"
   ]
  },
  {
   "cell_type": "code",
   "execution_count": 2,
   "id": "02b50810",
   "metadata": {},
   "outputs": [],
   "source": [
    "def lesser_(a,b):\n",
    "    if a%2==0 and b%2==0:\n",
    "        return a if a<b else b\n",
    "    else:\n",
    "        return a if a>b else b\n",
    "        "
   ]
  },
  {
   "cell_type": "code",
   "execution_count": 3,
   "id": "ebb09679",
   "metadata": {},
   "outputs": [
    {
     "data": {
      "text/plain": [
       "2"
      ]
     },
     "execution_count": 3,
     "metadata": {},
     "output_type": "execute_result"
    }
   ],
   "source": [
    "lesser_(2,4)"
   ]
  },
  {
   "cell_type": "code",
   "execution_count": 4,
   "id": "b95348f1",
   "metadata": {},
   "outputs": [
    {
     "data": {
      "text/plain": [
       "5"
      ]
     },
     "execution_count": 4,
     "metadata": {},
     "output_type": "execute_result"
    }
   ],
   "source": [
    "lesser_(2,5)"
   ]
  },
  {
   "cell_type": "code",
   "execution_count": 5,
   "id": "2b468e4a",
   "metadata": {},
   "outputs": [
    {
     "data": {
      "text/plain": [
       "2"
      ]
     },
     "execution_count": 5,
     "metadata": {},
     "output_type": "execute_result"
    }
   ],
   "source": [
    "lesser_(2,1)"
   ]
  },
  {
   "cell_type": "code",
   "execution_count": 6,
   "id": "310504b5",
   "metadata": {},
   "outputs": [
    {
     "data": {
      "text/plain": [
       "2"
      ]
     },
     "execution_count": 6,
     "metadata": {},
     "output_type": "execute_result"
    }
   ],
   "source": [
    "lesser_(1,2)"
   ]
  },
  {
   "cell_type": "code",
   "execution_count": 7,
   "id": "6e0c2e1e",
   "metadata": {},
   "outputs": [],
   "source": [
    "def old_macdonald(name):\n",
    "    letters = list(name)\n",
    "    letters[0]=letters[0].upper()\n",
    "    letters[3]=letters[3].upper()\n",
    "    return \"\".join(letters)"
   ]
  },
  {
   "cell_type": "code",
   "execution_count": 8,
   "id": "8eb8cb0c",
   "metadata": {},
   "outputs": [
    {
     "data": {
      "text/plain": [
       "'MacDonald'"
      ]
     },
     "execution_count": 8,
     "metadata": {},
     "output_type": "execute_result"
    }
   ],
   "source": [
    "old_macdonald('macdonald')"
   ]
  },
  {
   "cell_type": "code",
   "execution_count": null,
   "id": "884708c8",
   "metadata": {},
   "outputs": [],
   "source": []
  }
 ],
 "metadata": {
  "kernelspec": {
   "display_name": "Python 3",
   "language": "python",
   "name": "python3"
  },
  "language_info": {
   "codemirror_mode": {
    "name": "ipython",
    "version": 3
   },
   "file_extension": ".py",
   "mimetype": "text/x-python",
   "name": "python",
   "nbconvert_exporter": "python",
   "pygments_lexer": "ipython3",
   "version": "3.8.8"
  }
 },
 "nbformat": 4,
 "nbformat_minor": 5
}
