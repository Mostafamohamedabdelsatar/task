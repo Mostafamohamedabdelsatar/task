{
 "cells": [
  {
   "cell_type": "markdown",
   "id": "9f222fcf",
   "metadata": {},
   "source": [
    "## Use, .split(), and ifto create a Statement that will print out words that start with 's'"
   ]
  },
  {
   "cell_type": "code",
   "execution_count": 1,
   "id": "ce754b4c",
   "metadata": {},
   "outputs": [],
   "source": [
    "st = 'Print only the words that start with s in this sentence'"
   ]
  },
  {
   "cell_type": "code",
   "execution_count": 2,
   "id": "4cda24be",
   "metadata": {},
   "outputs": [
    {
     "name": "stdout",
     "output_type": "stream",
     "text": [
      "start\n",
      "s\n",
      "sentence\n"
     ]
    }
   ],
   "source": [
    "for n in st.split():\n",
    "    if n.startswith('s'):\n",
    "        print(n)"
   ]
  },
  {
   "cell_type": "code",
   "execution_count": 4,
   "id": "037af1e0",
   "metadata": {},
   "outputs": [
    {
     "name": "stdout",
     "output_type": "stream",
     "text": [
      "the\n",
      "that\n",
      "this\n"
     ]
    }
   ],
   "source": [
    "for n in st.split():\n",
    "    if n.startswith('t'):\n",
    "        print(n)"
   ]
  },
  {
   "cell_type": "markdown",
   "id": "d279ffe9",
   "metadata": {},
   "source": [
    "## Use range() to print all the even and odd numbers from 0 to 10."
   ]
  },
  {
   "cell_type": "code",
   "execution_count": 12,
   "id": "45820a54",
   "metadata": {},
   "outputs": [
    {
     "name": "stdout",
     "output_type": "stream",
     "text": [
      "even\n",
      " 0\n",
      "odd\n",
      " 1\n",
      "even\n",
      " 2\n",
      "odd\n",
      " 3\n",
      "even\n",
      " 4\n",
      "odd\n",
      " 5\n",
      "even\n",
      " 6\n",
      "odd\n",
      " 7\n",
      "even\n",
      " 8\n",
      "odd\n",
      " 9\n",
      "even\n",
      " 10\n"
     ]
    }
   ],
   "source": [
    "for numb in range(11):\n",
    "    if numb%2==0:\n",
    "        print('even\\n',numb)\n",
    "    else:\n",
    "        print('odd\\n',numb)\n",
    "            "
   ]
  },
  {
   "cell_type": "markdown",
   "id": "1801dbae",
   "metadata": {},
   "source": [
    "## Use a List Comprehension to create a list of all numbers between 1 and 50 that are divisible by 3."
   ]
  },
  {
   "cell_type": "code",
   "execution_count": 14,
   "id": "a4b48580",
   "metadata": {},
   "outputs": [
    {
     "name": "stdout",
     "output_type": "stream",
     "text": [
      "3\n",
      "6\n",
      "9\n",
      "12\n",
      "15\n",
      "18\n",
      "21\n",
      "24\n",
      "27\n",
      "30\n",
      "33\n",
      "36\n",
      "39\n",
      "42\n",
      "45\n",
      "48\n"
     ]
    }
   ],
   "source": [
    "for i in range(1,50):\n",
    "    if i%3==0:\n",
    "        print(i)"
   ]
  },
  {
   "cell_type": "code",
   "execution_count": 15,
   "id": "a78eca99",
   "metadata": {},
   "outputs": [
    {
     "data": {
      "text/plain": [
       "[3, 6, 9, 12, 15, 18, 21, 24, 27, 30, 33, 36, 39, 42, 45, 48]"
      ]
     },
     "execution_count": 15,
     "metadata": {},
     "output_type": "execute_result"
    }
   ],
   "source": [
    "list=[ i for i in range(1,50) if i%3==0]\n",
    "list"
   ]
  },
  {
   "cell_type": "markdown",
   "id": "8bbeb7b6",
   "metadata": {},
   "source": [
    "## Write a program that prints the integers from 1 to 100. But for multiples of three print \"Fizz\" instead of the number, and for the multiples of five print \"Buzz\". For numbers which are multiples of both three and five print \"FizzBuzz\"."
   ]
  },
  {
   "cell_type": "code",
   "execution_count": 22,
   "id": "97eefcda",
   "metadata": {},
   "outputs": [
    {
     "name": "stdout",
     "output_type": "stream",
     "text": [
      "FizzBuzz\n",
      "Fizz\n",
      "Buzz\n",
      "Fizz\n",
      "Fizz\n",
      "Buzz\n",
      "Fizz\n",
      "FizzBuzz\n",
      "Fizz\n",
      "Buzz\n",
      "Fizz\n",
      "Fizz\n",
      "Buzz\n",
      "Fizz\n",
      "FizzBuzz\n",
      "Fizz\n",
      "Buzz\n",
      "Fizz\n",
      "Fizz\n",
      "Buzz\n",
      "Fizz\n",
      "FizzBuzz\n",
      "Fizz\n",
      "Buzz\n",
      "Fizz\n",
      "Fizz\n",
      "Buzz\n",
      "Fizz\n",
      "FizzBuzz\n",
      "Fizz\n",
      "Buzz\n",
      "Fizz\n",
      "Fizz\n",
      "Buzz\n",
      "Fizz\n",
      "FizzBuzz\n",
      "Fizz\n",
      "Buzz\n",
      "Fizz\n",
      "Fizz\n",
      "Buzz\n",
      "Fizz\n",
      "FizzBuzz\n",
      "Fizz\n",
      "Buzz\n",
      "Fizz\n",
      "Fizz\n"
     ]
    }
   ],
   "source": [
    "for i in range(0,100):\n",
    "    if i%5==0 and i%3==0:\n",
    "        print('FizzBuzz')\n",
    "        continue\n",
    "    elif i%3==0:\n",
    "        print('Fizz')\n",
    "    elif i%5==0:\n",
    "        print('Buzz')   "
   ]
  },
  {
   "cell_type": "markdown",
   "id": "a07cb594",
   "metadata": {},
   "source": [
    "## Use List Comprehension to create a list of the first letters of every word in the string below"
   ]
  },
  {
   "cell_type": "code",
   "execution_count": 23,
   "id": "aed59074",
   "metadata": {},
   "outputs": [
    {
     "data": {
      "text/plain": [
       "['C', 'a', 'l', 'o', 't', 'f', 'l', 'o', 'e', 'w', 'i', 't', 's']"
      ]
     },
     "execution_count": 23,
     "metadata": {},
     "output_type": "execute_result"
    }
   ],
   "source": [
    "st = 'Create a list of the first letters of every word in this string'\n",
    "list=[n[0] for n in st.split()]\n",
    "list"
   ]
  },
  {
   "cell_type": "code",
   "execution_count": null,
   "id": "2728a96b",
   "metadata": {},
   "outputs": [],
   "source": []
  }
 ],
 "metadata": {
  "kernelspec": {
   "display_name": "Python 3",
   "language": "python",
   "name": "python3"
  },
  "language_info": {
   "codemirror_mode": {
    "name": "ipython",
    "version": 3
   },
   "file_extension": ".py",
   "mimetype": "text/x-python",
   "name": "python",
   "nbconvert_exporter": "python",
   "pygments_lexer": "ipython3",
   "version": "3.8.8"
  }
 },
 "nbformat": 4,
 "nbformat_minor": 5
}
