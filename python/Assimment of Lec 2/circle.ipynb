{
 "cells": [
  {
   "cell_type": "markdown",
   "id": "08b19689",
   "metadata": {},
   "source": [
    "# Exercise the circle"
   ]
  },
  {
   "cell_type": "code",
   "execution_count": 4,
   "id": "6702d7ff",
   "metadata": {},
   "outputs": [
    {
     "name": "stdout",
     "output_type": "stream",
     "text": [
      "What is the raduis:10\n"
     ]
    }
   ],
   "source": [
    "raduis=int(input('What is the raduis:'))\n"
   ]
  },
  {
   "cell_type": "markdown",
   "id": "fd389c6c",
   "metadata": {},
   "source": [
    "# The area"
   ]
  },
  {
   "cell_type": "code",
   "execution_count": 6,
   "id": "32d1da23",
   "metadata": {},
   "outputs": [
    {
     "name": "stdout",
     "output_type": "stream",
     "text": [
      "314.0\n"
     ]
    }
   ],
   "source": [
    "area=3.14*raduis*raduis\n",
    "print(area)"
   ]
  },
  {
   "cell_type": "markdown",
   "id": "9f2da988",
   "metadata": {},
   "source": [
    "# The circumference "
   ]
  },
  {
   "cell_type": "code",
   "execution_count": 7,
   "id": "2ed003fe",
   "metadata": {},
   "outputs": [
    {
     "name": "stdout",
     "output_type": "stream",
     "text": [
      "62.800000000000004\n"
     ]
    }
   ],
   "source": [
    "circumference= 2*3.14*raduis\n",
    "print(circumference)"
   ]
  },
  {
   "cell_type": "code",
   "execution_count": null,
   "id": "e27b7b88",
   "metadata": {},
   "outputs": [],
   "source": []
  }
 ],
 "metadata": {
  "kernelspec": {
   "display_name": "Python 3",
   "language": "python",
   "name": "python3"
  },
  "language_info": {
   "codemirror_mode": {
    "name": "ipython",
    "version": 3
   },
   "file_extension": ".py",
   "mimetype": "text/x-python",
   "name": "python",
   "nbconvert_exporter": "python",
   "pygments_lexer": "ipython3",
   "version": "3.8.8"
  }
 },
 "nbformat": 4,
 "nbformat_minor": 5
}
