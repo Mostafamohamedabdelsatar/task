{
 "cells": [
  {
   "cell_type": "markdown",
   "id": "22d97ed3",
   "metadata": {},
   "source": [
    "**1) Open a file, name it 'test.txt' and write 'hello world' for 5 times in it then close it.**"
   ]
  },
  {
   "cell_type": "code",
   "execution_count": 1,
   "id": "a72d6a66",
   "metadata": {},
   "outputs": [
    {
     "name": "stdout",
     "output_type": "stream",
     "text": [
      "hello world\n",
      "hello world\n",
      "hello world\n",
      "hello world\n",
      "hello world\n",
      "\n"
     ]
    }
   ],
   "source": [
    "f = open('test.txt', 'w+')\n",
    "f.write('hello world\\n' * 5)\n",
    "f.seek(0)\n",
    "print(f.read())\n",
    "f.close()"
   ]
  },
  {
   "cell_type": "markdown",
   "id": "ac9aff3c",
   "metadata": {},
   "source": [
    "**2) Read the contents of the file, then make content in upercase then write the result again to the file.**"
   ]
  },
  {
   "cell_type": "code",
   "execution_count": 2,
   "id": "4bce2f7a",
   "metadata": {},
   "outputs": [],
   "source": [
    "f = open('test.txt', 'r')\n",
    "content = f.read()\n",
    "f.close()\n",
    "\n",
    "\n",
    "f = open('test.txt', 'w')\n",
    "f.write(content.upper())\n",
    "f.close()"
   ]
  },
  {
   "cell_type": "markdown",
   "id": "98c03ccf",
   "metadata": {},
   "source": [
    "## 3) Read the third line of the file then update it to its capital case using `capitalize"
   ]
  },
  {
   "cell_type": "code",
   "execution_count": 5,
   "id": "21c2f524",
   "metadata": {},
   "outputs": [
    {
     "data": {
      "text/plain": [
       "['HELLO WORLD\\n',\n",
       " 'HELLO WORLD\\n',\n",
       " 'HELLO WORLD\\n',\n",
       " 'HELLO WORLD\\n',\n",
       " 'HELLO WORLD\\n']"
      ]
     },
     "execution_count": 5,
     "metadata": {},
     "output_type": "execute_result"
    }
   ],
   "source": [
    "f = open('test.txt', 'r')\n",
    "lines = f.readlines()\n",
    "lines"
   ]
  },
  {
   "cell_type": "markdown",
   "id": "f414ddb5",
   "metadata": {},
   "source": [
    "## 4) Using With Statement open this file and append 'I Love python' to it"
   ]
  },
  {
   "cell_type": "code",
   "execution_count": 6,
   "id": "8cf973e1",
   "metadata": {},
   "outputs": [],
   "source": [
    "with open('test.txt', 'a') as f:\n",
    "    f.write('I Love Python')"
   ]
  },
  {
   "cell_type": "code",
   "execution_count": null,
   "id": "8e4d7e20",
   "metadata": {},
   "outputs": [],
   "source": []
  }
 ],
 "metadata": {
  "kernelspec": {
   "display_name": "Python 3",
   "language": "python",
   "name": "python3"
  },
  "language_info": {
   "codemirror_mode": {
    "name": "ipython",
    "version": 3
   },
   "file_extension": ".py",
   "mimetype": "text/x-python",
   "name": "python",
   "nbconvert_exporter": "python",
   "pygments_lexer": "ipython3",
   "version": "3.8.8"
  }
 },
 "nbformat": 4,
 "nbformat_minor": 5
}
