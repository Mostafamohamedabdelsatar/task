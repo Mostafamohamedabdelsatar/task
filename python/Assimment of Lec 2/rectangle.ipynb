{
 "cells": [
  {
   "cell_type": "markdown",
   "id": "de566a20",
   "metadata": {},
   "source": [
    "# Exercise the  of rectangle"
   ]
  },
  {
   "cell_type": "code",
   "execution_count": 1,
   "id": "052afdce",
   "metadata": {},
   "outputs": [
    {
     "name": "stdout",
     "output_type": "stream",
     "text": [
      "What is the hight:10\n"
     ]
    }
   ],
   "source": [
    "height=int(input('What is the hight:'))"
   ]
  },
  {
   "cell_type": "code",
   "execution_count": 2,
   "id": "0fdab708",
   "metadata": {},
   "outputs": [
    {
     "name": "stdout",
     "output_type": "stream",
     "text": [
      "What is the width:5\n"
     ]
    }
   ],
   "source": [
    "width=int(input('What is the width:'))"
   ]
  },
  {
   "cell_type": "markdown",
   "id": "9e5012fb",
   "metadata": {},
   "source": [
    "# Area of rectangle "
   ]
  },
  {
   "cell_type": "code",
   "execution_count": 4,
   "id": "4c67f0e1",
   "metadata": {},
   "outputs": [
    {
     "name": "stdout",
     "output_type": "stream",
     "text": [
      "50\n"
     ]
    }
   ],
   "source": [
    "area= height * width\n",
    "print(area)"
   ]
  },
  {
   "cell_type": "markdown",
   "id": "2ea81ae4",
   "metadata": {},
   "source": [
    "# circumference  of rectangle"
   ]
  },
  {
   "cell_type": "code",
   "execution_count": 5,
   "id": "e435476b",
   "metadata": {},
   "outputs": [],
   "source": [
    "circumference = (height + width)*2"
   ]
  },
  {
   "cell_type": "code",
   "execution_count": 6,
   "id": "50ddbb8d",
   "metadata": {},
   "outputs": [
    {
     "name": "stdout",
     "output_type": "stream",
     "text": [
      "30\n"
     ]
    }
   ],
   "source": [
    "print(circumference)"
   ]
  },
  {
   "cell_type": "code",
   "execution_count": null,
   "id": "ceb37a78",
   "metadata": {},
   "outputs": [],
   "source": []
  }
 ],
 "metadata": {
  "kernelspec": {
   "display_name": "Python 3",
   "language": "python",
   "name": "python3"
  },
  "language_info": {
   "codemirror_mode": {
    "name": "ipython",
    "version": 3
   },
   "file_extension": ".py",
   "mimetype": "text/x-python",
   "name": "python",
   "nbconvert_exporter": "python",
   "pygments_lexer": "ipython3",
   "version": "3.8.8"
  }
 },
 "nbformat": 4,
 "nbformat_minor": 5
}
